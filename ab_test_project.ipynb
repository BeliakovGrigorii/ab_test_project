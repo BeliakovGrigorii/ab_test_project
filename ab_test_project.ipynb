{
 "cells": [
  {
   "cell_type": "markdown",
   "metadata": {},
   "source": [
    "# A/B-test Project"
   ]
  },
  {
   "cell_type": "markdown",
   "metadata": {},
   "source": [
    "## Introduction and Objectives of Research"
   ]
  },
  {
   "cell_type": "markdown",
   "metadata": {},
   "source": [
    "This project aims to evaluate the results of an A/B test. Among the project goals are:\n",
    "\n",
    "- Perform data loading and preprocessing of marketing events, new users, their actions, and test participants.\n",
    "- Evaluate the correctness of the test implementation.\n",
    "- Conduct exploratory data analysis.\n",
    "- Evaluate the test results.\n",
    "- Formulate conclusions based on the exploratory analysis and test results, as well as provide final recommendations.\n",
    "\n",
    "The following datasets will be used during the project:\n",
    "\n",
    "1) marketing_events.csv — calendar of marketing events for the year 2020:\n",
    "   - name — name of the marketing event;\n",
    "   - regions — regions where the advertising campaign will be conducted;\n",
    "   - start_dt — start date of the campaign;\n",
    "   - finish_dt — end date of the campaign.\n",
    "\n",
    "2) final_ab_new_users.csv — all users who registered on the online store from December 7th to December 21st, 2020:\n",
    "   - user_id — user identifier;\n",
    "   - first_date — registration date;\n",
    "   - region — user's region;\n",
    "   - device — device used for registration.\n",
    "\n",
    "3) final_ab_events.csv — all events of new users from December 7th, 2020, to January 4th, 2021:\n",
    "   - user_id — user identifier;\n",
    "   - event_dt — date and time of the event;\n",
    "   - event_name — type of event;\n",
    "   - details — additional data about the event. For example, for purchases (purchase), this field stores the purchase amount in dollars.\n",
    "\n",
    "4) final_ab_participants.csv — table of test participants:\n",
    "   - user_id — user identifier;\n",
    "   - ab_test — test name;\n",
    "   - group — user's group.\n"
   ]
  },
  {
   "cell_type": "markdown",
   "metadata": {},
   "source": [
    "### Test Description"
   ]
  },
  {
   "cell_type": "markdown",
   "metadata": {},
   "source": [
    "- Test Name: recommender_system_test\n",
    "- Groups: A (Control), B (New Payment Funnel)\n",
    "- Launch Date: 2020-12-07\n",
    "- New User Enrollment Stop Date: 2020-12-21\n",
    "- Stop Date: 2021-01-04\n",
    "- Expected Number of Test Participants: 15% of new users from the EU region\n",
    "- Test Purpose: Testing changes related to the implementation of an improved recommender system\n",
    "- Expected Effect: Within 14 days from registration in the system, users will demonstrate an improvement in each metric by at least 5 percentage points:\n",
    "  - Conversion to product page views - event: product_page\n",
    "  - Cart views - event: product_cart\n",
    "  - Purchases - event: purchase"
   ]
  },
  {
   "cell_type": "markdown",
   "metadata": {},
   "source": [
    "## Data Upload and Preprocessing"
   ]
  },
  {
   "cell_type": "markdown",
   "metadata": {},
   "source": [
    "### Imports"
   ]
  },
  {
   "cell_type": "code",
   "execution_count": 1,
   "metadata": {},
   "outputs": [],
   "source": [
    "import pandas as pd\n",
    "import matplotlib.pyplot as plt\n",
    "import seaborn as sns\n",
    "import plotly.express as px\n",
    "import plotly.io as pio\n",
    "import datetime as dt\n",
    "import math as mth\n",
    "from scipy import stats as st\n",
    "import warnings"
   ]
  },
  {
   "cell_type": "code",
   "execution_count": 2,
   "metadata": {},
   "outputs": [],
   "source": [
    "warnings.simplefilter(action='ignore', category=FutureWarning)"
   ]
  },
  {
   "cell_type": "code",
   "execution_count": 3,
   "metadata": {},
   "outputs": [],
   "source": [
    "pio.renderers.default = \"png\""
   ]
  },
  {
   "cell_type": "markdown",
   "metadata": {},
   "source": [
    "### Data Upload"
   ]
  },
  {
   "cell_type": "code",
   "execution_count": 4,
   "metadata": {},
   "outputs": [],
   "source": [
    "marketing_events = pd.read_csv('./datasets/ab_project_marketing_events.csv')\n",
    "users = pd.read_csv('./datasets/final_ab_new_users.csv')\n",
    "user_events = pd.read_csv('./datasets/final_ab_events.csv')\n",
    "participants = pd.read_csv('./datasets/final_ab_participants.csv')"
   ]
  },
  {
   "cell_type": "code",
   "execution_count": 5,
   "metadata": {},
   "outputs": [
    {
     "name": "stdout",
     "output_type": "stream",
     "text": [
      "<class 'pandas.core.frame.DataFrame'>\n",
      "RangeIndex: 14 entries, 0 to 13\n",
      "Data columns (total 4 columns):\n",
      " #   Column     Non-Null Count  Dtype \n",
      "---  ------     --------------  ----- \n",
      " 0   name       14 non-null     object\n",
      " 1   regions    14 non-null     object\n",
      " 2   start_dt   14 non-null     object\n",
      " 3   finish_dt  14 non-null     object\n",
      "dtypes: object(4)\n",
      "memory usage: 576.0+ bytes\n",
      "None\n"
     ]
    },
    {
     "data": {
      "text/html": [
       "<div>\n",
       "<style scoped>\n",
       "    .dataframe tbody tr th:only-of-type {\n",
       "        vertical-align: middle;\n",
       "    }\n",
       "\n",
       "    .dataframe tbody tr th {\n",
       "        vertical-align: top;\n",
       "    }\n",
       "\n",
       "    .dataframe thead th {\n",
       "        text-align: right;\n",
       "    }\n",
       "</style>\n",
       "<table border=\"1\" class=\"dataframe\">\n",
       "  <thead>\n",
       "    <tr style=\"text-align: right;\">\n",
       "      <th></th>\n",
       "      <th>name</th>\n",
       "      <th>regions</th>\n",
       "      <th>start_dt</th>\n",
       "      <th>finish_dt</th>\n",
       "    </tr>\n",
       "  </thead>\n",
       "  <tbody>\n",
       "    <tr>\n",
       "      <th>0</th>\n",
       "      <td>Christmas&amp;New Year Promo</td>\n",
       "      <td>EU, N.America</td>\n",
       "      <td>2020-12-25</td>\n",
       "      <td>2021-01-03</td>\n",
       "    </tr>\n",
       "    <tr>\n",
       "      <th>1</th>\n",
       "      <td>St. Valentine's Day Giveaway</td>\n",
       "      <td>EU, CIS, APAC, N.America</td>\n",
       "      <td>2020-02-14</td>\n",
       "      <td>2020-02-16</td>\n",
       "    </tr>\n",
       "    <tr>\n",
       "      <th>2</th>\n",
       "      <td>St. Patric's Day Promo</td>\n",
       "      <td>EU, N.America</td>\n",
       "      <td>2020-03-17</td>\n",
       "      <td>2020-03-19</td>\n",
       "    </tr>\n",
       "    <tr>\n",
       "      <th>3</th>\n",
       "      <td>Easter Promo</td>\n",
       "      <td>EU, CIS, APAC, N.America</td>\n",
       "      <td>2020-04-12</td>\n",
       "      <td>2020-04-19</td>\n",
       "    </tr>\n",
       "    <tr>\n",
       "      <th>4</th>\n",
       "      <td>4th of July Promo</td>\n",
       "      <td>N.America</td>\n",
       "      <td>2020-07-04</td>\n",
       "      <td>2020-07-11</td>\n",
       "    </tr>\n",
       "    <tr>\n",
       "      <th>5</th>\n",
       "      <td>Black Friday Ads Campaign</td>\n",
       "      <td>EU, CIS, APAC, N.America</td>\n",
       "      <td>2020-11-26</td>\n",
       "      <td>2020-12-01</td>\n",
       "    </tr>\n",
       "    <tr>\n",
       "      <th>6</th>\n",
       "      <td>Chinese New Year Promo</td>\n",
       "      <td>APAC</td>\n",
       "      <td>2020-01-25</td>\n",
       "      <td>2020-02-07</td>\n",
       "    </tr>\n",
       "    <tr>\n",
       "      <th>7</th>\n",
       "      <td>Labor day (May 1st) Ads Campaign</td>\n",
       "      <td>EU, CIS, APAC</td>\n",
       "      <td>2020-05-01</td>\n",
       "      <td>2020-05-03</td>\n",
       "    </tr>\n",
       "    <tr>\n",
       "      <th>8</th>\n",
       "      <td>International Women's Day Promo</td>\n",
       "      <td>EU, CIS, APAC</td>\n",
       "      <td>2020-03-08</td>\n",
       "      <td>2020-03-10</td>\n",
       "    </tr>\n",
       "    <tr>\n",
       "      <th>9</th>\n",
       "      <td>Victory Day CIS (May 9th) Event</td>\n",
       "      <td>CIS</td>\n",
       "      <td>2020-05-09</td>\n",
       "      <td>2020-05-11</td>\n",
       "    </tr>\n",
       "    <tr>\n",
       "      <th>10</th>\n",
       "      <td>CIS New Year Gift Lottery</td>\n",
       "      <td>CIS</td>\n",
       "      <td>2020-12-30</td>\n",
       "      <td>2021-01-07</td>\n",
       "    </tr>\n",
       "    <tr>\n",
       "      <th>11</th>\n",
       "      <td>Dragon Boat Festival Giveaway</td>\n",
       "      <td>APAC</td>\n",
       "      <td>2020-06-25</td>\n",
       "      <td>2020-07-01</td>\n",
       "    </tr>\n",
       "    <tr>\n",
       "      <th>12</th>\n",
       "      <td>Single's Day Gift Promo</td>\n",
       "      <td>APAC</td>\n",
       "      <td>2020-11-11</td>\n",
       "      <td>2020-11-12</td>\n",
       "    </tr>\n",
       "    <tr>\n",
       "      <th>13</th>\n",
       "      <td>Chinese Moon Festival</td>\n",
       "      <td>APAC</td>\n",
       "      <td>2020-10-01</td>\n",
       "      <td>2020-10-07</td>\n",
       "    </tr>\n",
       "  </tbody>\n",
       "</table>\n",
       "</div>"
      ],
      "text/plain": [
       "                                name                   regions    start_dt  \\\n",
       "0           Christmas&New Year Promo             EU, N.America  2020-12-25   \n",
       "1       St. Valentine's Day Giveaway  EU, CIS, APAC, N.America  2020-02-14   \n",
       "2             St. Patric's Day Promo             EU, N.America  2020-03-17   \n",
       "3                       Easter Promo  EU, CIS, APAC, N.America  2020-04-12   \n",
       "4                  4th of July Promo                 N.America  2020-07-04   \n",
       "5          Black Friday Ads Campaign  EU, CIS, APAC, N.America  2020-11-26   \n",
       "6             Chinese New Year Promo                      APAC  2020-01-25   \n",
       "7   Labor day (May 1st) Ads Campaign             EU, CIS, APAC  2020-05-01   \n",
       "8    International Women's Day Promo             EU, CIS, APAC  2020-03-08   \n",
       "9    Victory Day CIS (May 9th) Event                       CIS  2020-05-09   \n",
       "10         CIS New Year Gift Lottery                       CIS  2020-12-30   \n",
       "11     Dragon Boat Festival Giveaway                      APAC  2020-06-25   \n",
       "12           Single's Day Gift Promo                      APAC  2020-11-11   \n",
       "13             Chinese Moon Festival                      APAC  2020-10-01   \n",
       "\n",
       "     finish_dt  \n",
       "0   2021-01-03  \n",
       "1   2020-02-16  \n",
       "2   2020-03-19  \n",
       "3   2020-04-19  \n",
       "4   2020-07-11  \n",
       "5   2020-12-01  \n",
       "6   2020-02-07  \n",
       "7   2020-05-03  \n",
       "8   2020-03-10  \n",
       "9   2020-05-11  \n",
       "10  2021-01-07  \n",
       "11  2020-07-01  \n",
       "12  2020-11-12  \n",
       "13  2020-10-07  "
      ]
     },
     "execution_count": 5,
     "metadata": {},
     "output_type": "execute_result"
    }
   ],
   "source": [
    "print(marketing_events.info())\n",
    "marketing_events"
   ]
  },
  {
   "cell_type": "markdown",
   "metadata": {},
   "source": [
    "There were 14 marketing campaigns conducted.\n",
    "\n",
    "The columns start_dt and finish_dt will need to be converted to the datetime type."
   ]
  },
  {
   "cell_type": "code",
   "execution_count": 6,
   "metadata": {},
   "outputs": [
    {
     "name": "stdout",
     "output_type": "stream",
     "text": [
      "<class 'pandas.core.frame.DataFrame'>\n",
      "RangeIndex: 61733 entries, 0 to 61732\n",
      "Data columns (total 4 columns):\n",
      " #   Column      Non-Null Count  Dtype \n",
      "---  ------      --------------  ----- \n",
      " 0   user_id     61733 non-null  object\n",
      " 1   first_date  61733 non-null  object\n",
      " 2   region      61733 non-null  object\n",
      " 3   device      61733 non-null  object\n",
      "dtypes: object(4)\n",
      "memory usage: 1.9+ MB\n",
      "None\n"
     ]
    },
    {
     "data": {
      "text/html": [
       "<div>\n",
       "<style scoped>\n",
       "    .dataframe tbody tr th:only-of-type {\n",
       "        vertical-align: middle;\n",
       "    }\n",
       "\n",
       "    .dataframe tbody tr th {\n",
       "        vertical-align: top;\n",
       "    }\n",
       "\n",
       "    .dataframe thead th {\n",
       "        text-align: right;\n",
       "    }\n",
       "</style>\n",
       "<table border=\"1\" class=\"dataframe\">\n",
       "  <thead>\n",
       "    <tr style=\"text-align: right;\">\n",
       "      <th></th>\n",
       "      <th>user_id</th>\n",
       "      <th>first_date</th>\n",
       "      <th>region</th>\n",
       "      <th>device</th>\n",
       "    </tr>\n",
       "  </thead>\n",
       "  <tbody>\n",
       "    <tr>\n",
       "      <th>0</th>\n",
       "      <td>D72A72121175D8BE</td>\n",
       "      <td>2020-12-07</td>\n",
       "      <td>EU</td>\n",
       "      <td>PC</td>\n",
       "    </tr>\n",
       "    <tr>\n",
       "      <th>1</th>\n",
       "      <td>F1C668619DFE6E65</td>\n",
       "      <td>2020-12-07</td>\n",
       "      <td>N.America</td>\n",
       "      <td>Android</td>\n",
       "    </tr>\n",
       "    <tr>\n",
       "      <th>2</th>\n",
       "      <td>2E1BF1D4C37EA01F</td>\n",
       "      <td>2020-12-07</td>\n",
       "      <td>EU</td>\n",
       "      <td>PC</td>\n",
       "    </tr>\n",
       "    <tr>\n",
       "      <th>3</th>\n",
       "      <td>50734A22C0C63768</td>\n",
       "      <td>2020-12-07</td>\n",
       "      <td>EU</td>\n",
       "      <td>iPhone</td>\n",
       "    </tr>\n",
       "    <tr>\n",
       "      <th>4</th>\n",
       "      <td>E1BDDCE0DAFA2679</td>\n",
       "      <td>2020-12-07</td>\n",
       "      <td>N.America</td>\n",
       "      <td>iPhone</td>\n",
       "    </tr>\n",
       "  </tbody>\n",
       "</table>\n",
       "</div>"
      ],
      "text/plain": [
       "            user_id  first_date     region   device\n",
       "0  D72A72121175D8BE  2020-12-07         EU       PC\n",
       "1  F1C668619DFE6E65  2020-12-07  N.America  Android\n",
       "2  2E1BF1D4C37EA01F  2020-12-07         EU       PC\n",
       "3  50734A22C0C63768  2020-12-07         EU   iPhone\n",
       "4  E1BDDCE0DAFA2679  2020-12-07  N.America   iPhone"
      ]
     },
     "execution_count": 6,
     "metadata": {},
     "output_type": "execute_result"
    }
   ],
   "source": [
    "print(users.info())\n",
    "users.head()"
   ]
  },
  {
   "cell_type": "markdown",
   "metadata": {},
   "source": [
    "There are 61,733 records in the new users dataset.\n",
    "\n",
    "The column first_date will need to be converted to the datetime type."
   ]
  },
  {
   "cell_type": "code",
   "execution_count": 7,
   "metadata": {},
   "outputs": [
    {
     "name": "stdout",
     "output_type": "stream",
     "text": [
      "<class 'pandas.core.frame.DataFrame'>\n",
      "RangeIndex: 440317 entries, 0 to 440316\n",
      "Data columns (total 4 columns):\n",
      " #   Column      Non-Null Count   Dtype  \n",
      "---  ------      --------------   -----  \n",
      " 0   user_id     440317 non-null  object \n",
      " 1   event_dt    440317 non-null  object \n",
      " 2   event_name  440317 non-null  object \n",
      " 3   details     62740 non-null   float64\n",
      "dtypes: float64(1), object(3)\n",
      "memory usage: 13.4+ MB\n",
      "None\n"
     ]
    },
    {
     "data": {
      "text/html": [
       "<div>\n",
       "<style scoped>\n",
       "    .dataframe tbody tr th:only-of-type {\n",
       "        vertical-align: middle;\n",
       "    }\n",
       "\n",
       "    .dataframe tbody tr th {\n",
       "        vertical-align: top;\n",
       "    }\n",
       "\n",
       "    .dataframe thead th {\n",
       "        text-align: right;\n",
       "    }\n",
       "</style>\n",
       "<table border=\"1\" class=\"dataframe\">\n",
       "  <thead>\n",
       "    <tr style=\"text-align: right;\">\n",
       "      <th></th>\n",
       "      <th>user_id</th>\n",
       "      <th>event_dt</th>\n",
       "      <th>event_name</th>\n",
       "      <th>details</th>\n",
       "    </tr>\n",
       "  </thead>\n",
       "  <tbody>\n",
       "    <tr>\n",
       "      <th>0</th>\n",
       "      <td>E1BDDCE0DAFA2679</td>\n",
       "      <td>2020-12-07 20:22:03</td>\n",
       "      <td>purchase</td>\n",
       "      <td>99.99</td>\n",
       "    </tr>\n",
       "    <tr>\n",
       "      <th>1</th>\n",
       "      <td>7B6452F081F49504</td>\n",
       "      <td>2020-12-07 09:22:53</td>\n",
       "      <td>purchase</td>\n",
       "      <td>9.99</td>\n",
       "    </tr>\n",
       "    <tr>\n",
       "      <th>2</th>\n",
       "      <td>9CD9F34546DF254C</td>\n",
       "      <td>2020-12-07 12:59:29</td>\n",
       "      <td>purchase</td>\n",
       "      <td>4.99</td>\n",
       "    </tr>\n",
       "    <tr>\n",
       "      <th>3</th>\n",
       "      <td>96F27A054B191457</td>\n",
       "      <td>2020-12-07 04:02:40</td>\n",
       "      <td>purchase</td>\n",
       "      <td>4.99</td>\n",
       "    </tr>\n",
       "    <tr>\n",
       "      <th>4</th>\n",
       "      <td>1FD7660FDF94CA1F</td>\n",
       "      <td>2020-12-07 10:15:09</td>\n",
       "      <td>purchase</td>\n",
       "      <td>4.99</td>\n",
       "    </tr>\n",
       "  </tbody>\n",
       "</table>\n",
       "</div>"
      ],
      "text/plain": [
       "            user_id             event_dt event_name  details\n",
       "0  E1BDDCE0DAFA2679  2020-12-07 20:22:03   purchase    99.99\n",
       "1  7B6452F081F49504  2020-12-07 09:22:53   purchase     9.99\n",
       "2  9CD9F34546DF254C  2020-12-07 12:59:29   purchase     4.99\n",
       "3  96F27A054B191457  2020-12-07 04:02:40   purchase     4.99\n",
       "4  1FD7660FDF94CA1F  2020-12-07 10:15:09   purchase     4.99"
      ]
     },
     "execution_count": 7,
     "metadata": {},
     "output_type": "execute_result"
    }
   ],
   "source": [
    "print(user_events.info())\n",
    "user_events.head()"
   ]
  },
  {
   "cell_type": "markdown",
   "metadata": {},
   "source": [
    "There are 440,317 records in the user actions dataset.\n",
    "\n",
    "The column \"details\" contains missing values, which will be further examined during the preprocessing stage.\n",
    "\n",
    "The column \"event_dt\" needs to be converted to the datetime type."
   ]
  },
  {
   "cell_type": "code",
   "execution_count": 8,
   "metadata": {},
   "outputs": [
    {
     "name": "stdout",
     "output_type": "stream",
     "text": [
      "<class 'pandas.core.frame.DataFrame'>\n",
      "RangeIndex: 18268 entries, 0 to 18267\n",
      "Data columns (total 3 columns):\n",
      " #   Column   Non-Null Count  Dtype \n",
      "---  ------   --------------  ----- \n",
      " 0   user_id  18268 non-null  object\n",
      " 1   group    18268 non-null  object\n",
      " 2   ab_test  18268 non-null  object\n",
      "dtypes: object(3)\n",
      "memory usage: 428.3+ KB\n",
      "None\n"
     ]
    },
    {
     "data": {
      "text/html": [
       "<div>\n",
       "<style scoped>\n",
       "    .dataframe tbody tr th:only-of-type {\n",
       "        vertical-align: middle;\n",
       "    }\n",
       "\n",
       "    .dataframe tbody tr th {\n",
       "        vertical-align: top;\n",
       "    }\n",
       "\n",
       "    .dataframe thead th {\n",
       "        text-align: right;\n",
       "    }\n",
       "</style>\n",
       "<table border=\"1\" class=\"dataframe\">\n",
       "  <thead>\n",
       "    <tr style=\"text-align: right;\">\n",
       "      <th></th>\n",
       "      <th>user_id</th>\n",
       "      <th>group</th>\n",
       "      <th>ab_test</th>\n",
       "    </tr>\n",
       "  </thead>\n",
       "  <tbody>\n",
       "    <tr>\n",
       "      <th>0</th>\n",
       "      <td>D1ABA3E2887B6A73</td>\n",
       "      <td>A</td>\n",
       "      <td>recommender_system_test</td>\n",
       "    </tr>\n",
       "    <tr>\n",
       "      <th>1</th>\n",
       "      <td>A7A3664BD6242119</td>\n",
       "      <td>A</td>\n",
       "      <td>recommender_system_test</td>\n",
       "    </tr>\n",
       "    <tr>\n",
       "      <th>2</th>\n",
       "      <td>DABC14FDDFADD29E</td>\n",
       "      <td>A</td>\n",
       "      <td>recommender_system_test</td>\n",
       "    </tr>\n",
       "    <tr>\n",
       "      <th>3</th>\n",
       "      <td>04988C5DF189632E</td>\n",
       "      <td>A</td>\n",
       "      <td>recommender_system_test</td>\n",
       "    </tr>\n",
       "    <tr>\n",
       "      <th>4</th>\n",
       "      <td>482F14783456D21B</td>\n",
       "      <td>B</td>\n",
       "      <td>recommender_system_test</td>\n",
       "    </tr>\n",
       "  </tbody>\n",
       "</table>\n",
       "</div>"
      ],
      "text/plain": [
       "            user_id group                  ab_test\n",
       "0  D1ABA3E2887B6A73     A  recommender_system_test\n",
       "1  A7A3664BD6242119     A  recommender_system_test\n",
       "2  DABC14FDDFADD29E     A  recommender_system_test\n",
       "3  04988C5DF189632E     A  recommender_system_test\n",
       "4  482F14783456D21B     B  recommender_system_test"
      ]
     },
     "execution_count": 8,
     "metadata": {},
     "output_type": "execute_result"
    }
   ],
   "source": [
    "print(participants.info())\n",
    "participants.head()"
   ]
  },
  {
   "cell_type": "markdown",
   "metadata": {},
   "source": [
    "There are 18,268 records in the test participants dataset."
   ]
  },
  {
   "cell_type": "markdown",
   "metadata": {},
   "source": [
    "### Data Preprocessing"
   ]
  },
  {
   "cell_type": "code",
   "execution_count": 9,
   "metadata": {},
   "outputs": [
    {
     "data": {
      "text/plain": [
       "user_id            0\n",
       "event_dt           0\n",
       "event_name         0\n",
       "details       377577\n",
       "dtype: int64"
      ]
     },
     "execution_count": 9,
     "metadata": {},
     "output_type": "execute_result"
    }
   ],
   "source": [
    "user_events.isna().sum()"
   ]
  },
  {
   "cell_type": "markdown",
   "metadata": {},
   "source": [
    "The column \"details\" contains 377,577 missing values. Let's examine their nature."
   ]
  },
  {
   "cell_type": "code",
   "execution_count": 10,
   "metadata": {},
   "outputs": [
    {
     "data": {
      "text/html": [
       "<div>\n",
       "<style scoped>\n",
       "    .dataframe tbody tr th:only-of-type {\n",
       "        vertical-align: middle;\n",
       "    }\n",
       "\n",
       "    .dataframe tbody tr th {\n",
       "        vertical-align: top;\n",
       "    }\n",
       "\n",
       "    .dataframe thead th {\n",
       "        text-align: right;\n",
       "    }\n",
       "</style>\n",
       "<table border=\"1\" class=\"dataframe\">\n",
       "  <thead>\n",
       "    <tr style=\"text-align: right;\">\n",
       "      <th></th>\n",
       "      <th>user_id</th>\n",
       "      <th>event_dt</th>\n",
       "      <th>event_name</th>\n",
       "      <th>details</th>\n",
       "    </tr>\n",
       "  </thead>\n",
       "  <tbody>\n",
       "    <tr>\n",
       "      <th>62740</th>\n",
       "      <td>2E1BF1D4C37EA01F</td>\n",
       "      <td>2020-12-07 09:05:47</td>\n",
       "      <td>product_cart</td>\n",
       "      <td>NaN</td>\n",
       "    </tr>\n",
       "    <tr>\n",
       "      <th>62741</th>\n",
       "      <td>50734A22C0C63768</td>\n",
       "      <td>2020-12-07 13:24:03</td>\n",
       "      <td>product_cart</td>\n",
       "      <td>NaN</td>\n",
       "    </tr>\n",
       "    <tr>\n",
       "      <th>62742</th>\n",
       "      <td>5EB159DA9DC94DBA</td>\n",
       "      <td>2020-12-07 22:54:02</td>\n",
       "      <td>product_cart</td>\n",
       "      <td>NaN</td>\n",
       "    </tr>\n",
       "    <tr>\n",
       "      <th>62743</th>\n",
       "      <td>084A22B980BA8169</td>\n",
       "      <td>2020-12-07 15:25:55</td>\n",
       "      <td>product_cart</td>\n",
       "      <td>NaN</td>\n",
       "    </tr>\n",
       "    <tr>\n",
       "      <th>62744</th>\n",
       "      <td>0FC21E6F8FAA8DEC</td>\n",
       "      <td>2020-12-07 06:56:27</td>\n",
       "      <td>product_cart</td>\n",
       "      <td>NaN</td>\n",
       "    </tr>\n",
       "    <tr>\n",
       "      <th>...</th>\n",
       "      <td>...</td>\n",
       "      <td>...</td>\n",
       "      <td>...</td>\n",
       "      <td>...</td>\n",
       "    </tr>\n",
       "    <tr>\n",
       "      <th>440312</th>\n",
       "      <td>245E85F65C358E08</td>\n",
       "      <td>2020-12-30 19:35:55</td>\n",
       "      <td>login</td>\n",
       "      <td>NaN</td>\n",
       "    </tr>\n",
       "    <tr>\n",
       "      <th>440313</th>\n",
       "      <td>9385A108F5A0A7A7</td>\n",
       "      <td>2020-12-30 10:54:15</td>\n",
       "      <td>login</td>\n",
       "      <td>NaN</td>\n",
       "    </tr>\n",
       "    <tr>\n",
       "      <th>440314</th>\n",
       "      <td>DB650B7559AC6EAC</td>\n",
       "      <td>2020-12-30 10:59:09</td>\n",
       "      <td>login</td>\n",
       "      <td>NaN</td>\n",
       "    </tr>\n",
       "    <tr>\n",
       "      <th>440315</th>\n",
       "      <td>F80C9BDDEA02E53C</td>\n",
       "      <td>2020-12-30 09:53:39</td>\n",
       "      <td>login</td>\n",
       "      <td>NaN</td>\n",
       "    </tr>\n",
       "    <tr>\n",
       "      <th>440316</th>\n",
       "      <td>7AEC61159B672CC5</td>\n",
       "      <td>2020-12-30 11:36:13</td>\n",
       "      <td>login</td>\n",
       "      <td>NaN</td>\n",
       "    </tr>\n",
       "  </tbody>\n",
       "</table>\n",
       "<p>377577 rows × 4 columns</p>\n",
       "</div>"
      ],
      "text/plain": [
       "                 user_id             event_dt    event_name  details\n",
       "62740   2E1BF1D4C37EA01F  2020-12-07 09:05:47  product_cart      NaN\n",
       "62741   50734A22C0C63768  2020-12-07 13:24:03  product_cart      NaN\n",
       "62742   5EB159DA9DC94DBA  2020-12-07 22:54:02  product_cart      NaN\n",
       "62743   084A22B980BA8169  2020-12-07 15:25:55  product_cart      NaN\n",
       "62744   0FC21E6F8FAA8DEC  2020-12-07 06:56:27  product_cart      NaN\n",
       "...                  ...                  ...           ...      ...\n",
       "440312  245E85F65C358E08  2020-12-30 19:35:55         login      NaN\n",
       "440313  9385A108F5A0A7A7  2020-12-30 10:54:15         login      NaN\n",
       "440314  DB650B7559AC6EAC  2020-12-30 10:59:09         login      NaN\n",
       "440315  F80C9BDDEA02E53C  2020-12-30 09:53:39         login      NaN\n",
       "440316  7AEC61159B672CC5  2020-12-30 11:36:13         login      NaN\n",
       "\n",
       "[377577 rows x 4 columns]"
      ]
     },
     "execution_count": 10,
     "metadata": {},
     "output_type": "execute_result"
    }
   ],
   "source": [
    "user_events[user_events['details'].isna() == True]"
   ]
  },
  {
   "cell_type": "code",
   "execution_count": 11,
   "metadata": {},
   "outputs": [
    {
     "name": "stdout",
     "output_type": "stream",
     "text": [
      "['purchase']\n"
     ]
    },
    {
     "data": {
      "text/html": [
       "<div>\n",
       "<style scoped>\n",
       "    .dataframe tbody tr th:only-of-type {\n",
       "        vertical-align: middle;\n",
       "    }\n",
       "\n",
       "    .dataframe tbody tr th {\n",
       "        vertical-align: top;\n",
       "    }\n",
       "\n",
       "    .dataframe thead th {\n",
       "        text-align: right;\n",
       "    }\n",
       "</style>\n",
       "<table border=\"1\" class=\"dataframe\">\n",
       "  <thead>\n",
       "    <tr style=\"text-align: right;\">\n",
       "      <th></th>\n",
       "      <th>user_id</th>\n",
       "      <th>event_dt</th>\n",
       "      <th>event_name</th>\n",
       "      <th>details</th>\n",
       "    </tr>\n",
       "  </thead>\n",
       "  <tbody>\n",
       "    <tr>\n",
       "      <th>0</th>\n",
       "      <td>E1BDDCE0DAFA2679</td>\n",
       "      <td>2020-12-07 20:22:03</td>\n",
       "      <td>purchase</td>\n",
       "      <td>99.99</td>\n",
       "    </tr>\n",
       "    <tr>\n",
       "      <th>1</th>\n",
       "      <td>7B6452F081F49504</td>\n",
       "      <td>2020-12-07 09:22:53</td>\n",
       "      <td>purchase</td>\n",
       "      <td>9.99</td>\n",
       "    </tr>\n",
       "    <tr>\n",
       "      <th>2</th>\n",
       "      <td>9CD9F34546DF254C</td>\n",
       "      <td>2020-12-07 12:59:29</td>\n",
       "      <td>purchase</td>\n",
       "      <td>4.99</td>\n",
       "    </tr>\n",
       "    <tr>\n",
       "      <th>3</th>\n",
       "      <td>96F27A054B191457</td>\n",
       "      <td>2020-12-07 04:02:40</td>\n",
       "      <td>purchase</td>\n",
       "      <td>4.99</td>\n",
       "    </tr>\n",
       "    <tr>\n",
       "      <th>4</th>\n",
       "      <td>1FD7660FDF94CA1F</td>\n",
       "      <td>2020-12-07 10:15:09</td>\n",
       "      <td>purchase</td>\n",
       "      <td>4.99</td>\n",
       "    </tr>\n",
       "  </tbody>\n",
       "</table>\n",
       "</div>"
      ],
      "text/plain": [
       "            user_id             event_dt event_name  details\n",
       "0  E1BDDCE0DAFA2679  2020-12-07 20:22:03   purchase    99.99\n",
       "1  7B6452F081F49504  2020-12-07 09:22:53   purchase     9.99\n",
       "2  9CD9F34546DF254C  2020-12-07 12:59:29   purchase     4.99\n",
       "3  96F27A054B191457  2020-12-07 04:02:40   purchase     4.99\n",
       "4  1FD7660FDF94CA1F  2020-12-07 10:15:09   purchase     4.99"
      ]
     },
     "execution_count": 11,
     "metadata": {},
     "output_type": "execute_result"
    }
   ],
   "source": [
    "print(user_events.loc[user_events['details'].isna() == False, 'event_name'].unique())\n",
    "user_events[user_events['details'].isna() == False].head()"
   ]
  },
  {
   "cell_type": "markdown",
   "metadata": {},
   "source": [
    "The column \"details\" contains information about the purchase amount if the event is a purchase. In other cases, it contains missing values. Such missing values do not need to be deleted."
   ]
  },
  {
   "cell_type": "code",
   "execution_count": 12,
   "metadata": {},
   "outputs": [],
   "source": [
    "marketing_events['start_dt'] = pd.to_datetime(marketing_events['start_dt'])\n",
    "marketing_events['finish_dt'] = pd.to_datetime(marketing_events['finish_dt'])\n",
    "\n",
    "users['first_date'] = pd.to_datetime(users['first_date'])\n",
    "user_events['event_dt'] = pd.to_datetime(user_events['event_dt'])"
   ]
  },
  {
   "cell_type": "code",
   "execution_count": 13,
   "metadata": {},
   "outputs": [
    {
     "name": "stdout",
     "output_type": "stream",
     "text": [
      "0\n",
      "0\n",
      "0\n",
      "0\n"
     ]
    }
   ],
   "source": [
    "print(marketing_events.duplicated().sum())\n",
    "print(users.duplicated().sum())\n",
    "print(user_events.duplicated().sum())\n",
    "print(participants.duplicated().sum())"
   ]
  },
  {
   "cell_type": "markdown",
   "metadata": {},
   "source": [
    "No explicit duplicates were found. Let's check for duplicates based on user IDs."
   ]
  },
  {
   "cell_type": "code",
   "execution_count": 14,
   "metadata": {},
   "outputs": [
    {
     "name": "stdout",
     "output_type": "stream",
     "text": [
      "0\n",
      "1602\n"
     ]
    }
   ],
   "source": [
    "print(users['user_id'].duplicated().sum())\n",
    "print(participants['user_id'].duplicated().sum())"
   ]
  },
  {
   "cell_type": "markdown",
   "metadata": {},
   "source": [
    "Some users appeared multiple times in the test participant data. We'll further examine them during the assessment of the experiment's correctness."
   ]
  },
  {
   "cell_type": "markdown",
   "metadata": {},
   "source": [
    "### Results of Preprocessing"
   ]
  },
  {
   "cell_type": "markdown",
   "metadata": {},
   "source": [
    "During the preprocessing stage:\n",
    "\n",
    "- Missing values in the \"details\" column of the user_events dataset were discovered. Their nature was identified, and it was decided to retain them.\n",
    "- Columns containing dates were converted to the datetime type in all datasets.\n",
    "- No duplicates were found. However, in the participants dataset, repeating users were identified, and they will be further investigated in the next stage."
   ]
  },
  {
   "cell_type": "markdown",
   "metadata": {},
   "source": [
    "## Evaluation of Test Conducting Correctness"
   ]
  },
  {
   "cell_type": "markdown",
   "metadata": {},
   "source": [
    "### Test Participants"
   ]
  },
  {
   "cell_type": "code",
   "execution_count": 15,
   "metadata": {},
   "outputs": [
    {
     "name": "stdout",
     "output_type": "stream",
     "text": [
      "Users were enrolled from 2020-12-07 to 2020-12-21.\n"
     ]
    }
   ],
   "source": [
    "test_users = pd.merge(left=users, right=participants[participants['ab_test'] == 'recommender_system_test'], left_on='user_id', right_on='user_id', how='right')\n",
    "print(f\"Users were enrolled from {test_users['first_date'].dt.date.min()} to {test_users['first_date'].dt.date.max()}.\")"
   ]
  },
  {
   "cell_type": "markdown",
   "metadata": {},
   "source": [
    "The user enrollment period meets the requirements of the technical task."
   ]
  },
  {
   "cell_type": "code",
   "execution_count": 16,
   "metadata": {},
   "outputs": [
    {
     "name": "stdout",
     "output_type": "stream",
     "text": [
      "The proportion of users from the EU region who participated in the test: 15.0%\n"
     ]
    },
    {
     "data": {
      "text/plain": [
       "region\n",
       "EU           6351\n",
       "N.America     223\n",
       "APAC           72\n",
       "CIS            55\n",
       "Name: count, dtype: int64"
      ]
     },
     "execution_count": 16,
     "metadata": {},
     "output_type": "execute_result"
    }
   ],
   "source": [
    "test_beginning = dt.datetime(day=7, month=12, year=2020)\n",
    "test_end = dt.datetime(day=4, month=1, year=2021)\n",
    "registration_end = dt.datetime(day=21, month=12, year=2020)\n",
    "\n",
    "eu_total = len(users.query('region == \"EU\" & @test_beginning <= first_date <= @registration_end'))\n",
    "\n",
    "print(f\"The proportion of users from the EU region who participated in the test: {round(len(test_users[test_users['region'] == 'EU']) / eu_total * 100, 2)}%\")\n",
    "test_users['region'].value_counts()"
   ]
  },
  {
   "cell_type": "markdown",
   "metadata": {},
   "source": [
    "Exactly 15% of users from Europe participated in the test. Users from other regions also joined the groups, but their number is insignificant, so we will leave them."
   ]
  },
  {
   "cell_type": "code",
   "execution_count": 17,
   "metadata": {},
   "outputs": [
    {
     "data": {
      "image/png": "[encoded data removed]",
      "text/plain": [
       "<Figure size 2000x800 with 2 Axes>"
      ]
     },
     "metadata": {},
     "output_type": "display_data"
    }
   ],
   "source": [
    "date_users_a = test_users[test_users['group'] == 'A'].groupby('first_date', as_index=False).count()[['first_date', 'user_id']]\n",
    "date_users_a['cumulative'] = date_users_a['user_id'].cumsum()\n",
    "date_users_b = test_users[test_users['group'] == 'B'].groupby('first_date', as_index=False).count()[['first_date', 'user_id']]\n",
    "date_users_b['cumulative'] = date_users_b['user_id'].cumsum()\n",
    "\n",
    "plt.figure(figsize=(20, 8))\n",
    "plt.subplot(1, 2, 1)\n",
    "sns.lineplot(x=date_users_a['first_date'], y=date_users_a['user_id'], label='A')\n",
    "sns.lineplot(x=date_users_b['first_date'], y=date_users_b['user_id'], label='B')\n",
    "plt.title('The dynamics of user enrollment in test groups')\n",
    "plt.xlabel('Date')\n",
    "plt.ylabel(\"Users' count\")\n",
    "plt.legend(title='Test group')\n",
    "plt.subplot(1, 2, 2)\n",
    "sns.lineplot(x=date_users_a['first_date'], y=date_users_a['cumulative'], label='A')\n",
    "sns.lineplot(x=date_users_b['first_date'], y=date_users_b['cumulative'], label='B')\n",
    "plt.title('Cumulative number of users per day')\n",
    "plt.xlabel('Date')\n",
    "plt.ylabel('Cumulative number of users')\n",
    "plt.legend(title='Test group')\n",
    "plt.show()"
   ]
  },
  {
   "cell_type": "markdown",
   "metadata": {},
   "source": [
    "User enrollment peaks occurred on December 7th, 14th, and 21st, with more than 350 clients recruited each day for Group A and 250 for Group B. The enrollment dynamics in both groups are similar: from the 8th to the 11th and from the 15th to the 17th, there were declines, followed by rapid growth. It is also noticeable that fewer users were enrolled in Group B, and the difference increased over time."
   ]
  },
  {
   "cell_type": "code",
   "execution_count": 18,
   "metadata": {},
   "outputs": [
    {
     "data": {
      "image/png": "[encoded data removed]"
     },
     "metadata": {},
     "output_type": "display_data"
    }
   ],
   "source": [
    "test_groups = test_users['group'].value_counts()\n",
    "\n",
    "fig = px.pie(test_groups, names=test_groups.index, values=test_groups)\n",
    "fig.update_layout(width=600,\n",
    "                  height=600,\n",
    "                  title=\"The ratio of test groups based on the number of users\",\n",
    "                  legend_title='Test group')\n",
    "fig.update_traces(textposition='inside', textinfo='value+percent')\n",
    "fig.show()"
   ]
  },
  {
   "cell_type": "markdown",
   "metadata": {},
   "source": [
    "It can be observed that Group A is more numerous, with a difference of 14%.\n",
    "\n",
    "According to the baseline conversion rate of 50%, the minimum size of the test group should be 1567 users. It can be concluded that the groups are formed correctly."
   ]
  },
  {
   "cell_type": "markdown",
   "metadata": {},
   "source": [
    "### Check for intersections"
   ]
  },
  {
   "cell_type": "code",
   "execution_count": 19,
   "metadata": {},
   "outputs": [
    {
     "name": "stdout",
     "output_type": "stream",
     "text": [
      "The proportion of users who participated in both tests: 23.91%\n"
     ]
    }
   ],
   "source": [
    "user_tests = participants.groupby('user_id', as_index=False).agg({'ab_test': 'nunique'})\n",
    "print(f'The proportion of users who participated in both tests: {round(len(user_tests[user_tests[\"ab_test\"] > 1]) / len(test_users) * 100, 2)}%')"
   ]
  },
  {
   "cell_type": "markdown",
   "metadata": {},
   "source": [
    "Almost 24% of participants in the test of interest also participated in the competing test. A large proportion of users participating in both tests can distort the results. However, users in the control group of the competing test can be retained since the interface changes did not affect them. Let's check the distribution of such users across the groups of our test."
   ]
  },
  {
   "cell_type": "code",
   "execution_count": 20,
   "metadata": {},
   "outputs": [
    {
     "data": {
      "text/plain": [
       "group\n",
       "A    482\n",
       "B    337\n",
       "Name: count, dtype: int64"
      ]
     },
     "execution_count": 20,
     "metadata": {},
     "output_type": "execute_result"
    }
   ],
   "source": [
    "rival_test_A = participants.query('ab_test == \"interface_eu_test\" & group == \"A\"')\n",
    "test_users.loc[test_users['user_id'].isin(rival_test_A['user_id']), 'group'].value_counts()"
   ]
  },
  {
   "cell_type": "markdown",
   "metadata": {},
   "source": [
    "The distribution across groups is skewed towards Group A. Let's remove users from Group B of the competing experiment from our test, and then recheck the final distribution across groups."
   ]
  },
  {
   "cell_type": "code",
   "execution_count": 21,
   "metadata": {},
   "outputs": [],
   "source": [
    "rival_test_B = participants.query('ab_test == \"interface_eu_test\" & group == \"B\"')\n",
    "test_users = test_users.drop(test_users[test_users['user_id'].isin(rival_test_B['user_id'])].index)"
   ]
  },
  {
   "cell_type": "code",
   "execution_count": 22,
   "metadata": {},
   "outputs": [
    {
     "data": {
      "image/png": "[encoded data removed]"
     },
     "metadata": {},
     "output_type": "display_data"
    }
   ],
   "source": [
    "test_groups = test_users['group'].value_counts()\n",
    "\n",
    "fig1 = px.pie(test_groups, names=test_groups.index, values=test_groups)\n",
    "fig1.update_layout(width=600,\n",
    "                  height=600,\n",
    "                  title=\"The ratio of test groups based on the number of users (updated)\",\n",
    "                  legend_title='Test group')\n",
    "fig1.update_traces(textposition='inside', textinfo='value+percent')\n",
    "fig1.show()"
   ]
  },
  {
   "cell_type": "markdown",
   "metadata": {},
   "source": [
    "The difference between the groups has increased by 0.1%. However, removing users from the competing test will ensure a more accurate result."
   ]
  },
  {
   "cell_type": "code",
   "execution_count": 23,
   "metadata": {},
   "outputs": [
    {
     "name": "stdout",
     "output_type": "stream",
     "text": [
      "The number of users who are in both groups: 0\n"
     ]
    }
   ],
   "source": [
    "user_groups = test_users.groupby('user_id', as_index=False).agg({'group': 'nunique'})\n",
    "print(\"The number of users who are in both groups:\", len(user_groups[user_groups['group'] > 1]))"
   ]
  },
  {
   "cell_type": "markdown",
   "metadata": {},
   "source": [
    "No user has been assigned to both test groups. The absence of intersections will help achieve the most accurate result."
   ]
  },
  {
   "cell_type": "markdown",
   "metadata": {},
   "source": [
    "### Users' activity"
   ]
  },
  {
   "cell_type": "code",
   "execution_count": 24,
   "metadata": {},
   "outputs": [
    {
     "name": "stdout",
     "output_type": "stream",
     "text": [
      "Test participants performed actions from 2020-12-07 to 2020-12-30.\n"
     ]
    }
   ],
   "source": [
    "test_events = user_events[user_events['user_id'].isin(test_users['user_id'])]\n",
    "print(f\"Test participants performed actions from {test_events['event_dt'].min().date()} to {test_events['event_dt'].max().date()}.\")"
   ]
  },
  {
   "cell_type": "markdown",
   "metadata": {},
   "source": [
    "The dates of test participants' actions fall within the test period. However, there were no events in the last 5 days, which may be due to holidays."
   ]
  },
  {
   "cell_type": "code",
   "execution_count": 25,
   "metadata": {},
   "outputs": [
    {
     "name": "stdout",
     "output_type": "stream",
     "text": [
      "The proportion of users who did not perform any actions: 45.18%\n"
     ]
    }
   ],
   "source": [
    "no_events = test_users[test_users['user_id'].isin(user_events['user_id']) == False]\n",
    "print(f'The proportion of users who did not perform any actions: {round(len(no_events) / len(test_users) * 100, 2)}%')"
   ]
  },
  {
   "cell_type": "markdown",
   "metadata": {},
   "source": [
    "A whopping 45% of users participating in the test did not perform any actions. Let's examine their distribution across groups."
   ]
  },
  {
   "cell_type": "code",
   "execution_count": 26,
   "metadata": {},
   "outputs": [
    {
     "data": {
      "text/plain": [
       "group\n",
       "B    1711\n",
       "A     963\n",
       "Name: count, dtype: int64"
      ]
     },
     "execution_count": 26,
     "metadata": {},
     "output_type": "execute_result"
    }
   ],
   "source": [
    "no_events['group'].value_counts()"
   ]
  },
  {
   "cell_type": "markdown",
   "metadata": {},
   "source": [
    "Such users are unevenly distributed across groups. There are significantly more users without actions in Group B, and excluding them from the analysis would make the group too small to conduct an A/B test. Let's retain these users.<br>"
   ]
  },
  {
   "cell_type": "code",
   "execution_count": 27,
   "metadata": {},
   "outputs": [],
   "source": [
    "test_events = test_events.merge(test_users[['user_id', 'first_date']], on='user_id', how='left')\n",
    "test_events['lifetime'] = (test_events['event_dt'] - test_events['first_date']).dt.days\n",
    "test_events = test_events.drop(test_events[test_events['lifetime'] > 14].index)"
   ]
  },
  {
   "cell_type": "markdown",
   "metadata": {},
   "source": [
    "Events with a lifetime of more than 14 days were detected and removed from the data. Additionally, it's worth noting that all users participating in the test had the opportunity to perform actions within the first 14 days after registration since the last user was added on 2020-12-21, exactly 2 weeks before the end of the test. (04.01.2021)."
   ]
  },
  {
   "cell_type": "code",
   "execution_count": 28,
   "metadata": {},
   "outputs": [
    {
     "data": {
      "image/png": "[encoded data removed]",
      "text/plain": [
       "<Figure size 1000x800 with 1 Axes>"
      ]
     },
     "metadata": {},
     "output_type": "display_data"
    }
   ],
   "source": [
    "first_events = test_events.groupby(['user_id', 'event_name']).lifetime.min().reset_index().sort_values(by=['user_id', 'event_name'])\n",
    "\n",
    "plt.figure(figsize=(10, 8))\n",
    "sns.barplot(data=first_events.groupby(['lifetime', 'event_name'], as_index=False).user_id.count(),\n",
    "            x='lifetime',\n",
    "            y='user_id',\n",
    "            hue='event_name')\n",
    "plt.title(\"The distribution of users' first events by lifetime\")\n",
    "plt.xlabel('Lifetime')\n",
    "plt.ylabel('User count')\n",
    "plt.legend(title='Event type')\n",
    "plt.show()"
   ]
  },
  {
   "cell_type": "markdown",
   "metadata": {},
   "source": [
    "The vast majority of users perform all their first events on the day of registration."
   ]
  },
  {
   "cell_type": "markdown",
   "metadata": {},
   "source": [
    "### The conclusion about the correctness of conducting the test"
   ]
  },
  {
   "cell_type": "markdown",
   "metadata": {},
   "source": [
    "After the manipulations conducted with the sample, the following conclusions can be drawn:\n",
    "- The user enrollment period aligns with the requirements of the task.\n",
    "- Instead of 15%, 13.7% of users from Europe participated in the test. However, this difference is unlikely to have a significant impact on the result.\n",
    "- Users were evenly distributed into groups.\n",
    "- Group B has fewer users, but the number is above the minimum requirement.\n",
    "- Users from Group B of the competing test were present in the data, which could have influenced the result's accuracy. Therefore, they had to be removed. Control group users were retained as they do not influence the result.\n",
    "- Users performed events within the test dates. Some users did not perform any events but were retained to maintain correct group sizes.\n",
    "- Users had the opportunity to perform events throughout all 14 days after registration. Events performed by users more than 2 weeks after registration were removed from the data.\n",
    "- The absolute majority of users perform all their first events on the day of registration.\n",
    "\n",
    "Based on the analysis of the correctness of conducting the test, it can be concluded that the test was initially conducted incorrectly. However, after processing, the data align with the task requirements and are ready for result evaluation.\n",
    "\n",
    "Obtaining reliable results of the A/B test is ensured by the compliance of the sample sizes with the minimum requirement calculated using the A/B test calculator with a baseline conversion rate of 50%. Additionally, result accuracy is ensured by the absence of intersections between groups and competing tests."
   ]
  },
  {
   "cell_type": "markdown",
   "metadata": {},
   "source": [
    "## Exploratory Data Analysis"
   ]
  },
  {
   "cell_type": "markdown",
   "metadata": {},
   "source": [
    "### Events by Users"
   ]
  },
  {
   "cell_type": "code",
   "execution_count": 29,
   "metadata": {},
   "outputs": [
    {
     "data": {
      "image/png": "[encoded data removed]",
      "text/plain": [
       "<Figure size 1000x800 with 1 Axes>"
      ]
     },
     "metadata": {},
     "output_type": "display_data"
    },
    {
     "name": "stdout",
     "output_type": "stream",
     "text": [
      "Users that performed actions:\n",
      "The average number of events per user in Group A: 6.95\n",
      "The average number of events per user in Group B: 5.42\n",
      "\n",
      "All users:\n",
      "The average number of events per user in Group A: 4.97\n",
      "The average number of events per user in Group B: 1.76\n"
     ]
    }
   ],
   "source": [
    "test_events = test_events.merge(test_users[['user_id', 'group']], on='user_id', how='left')\n",
    "user_events_count = test_events.groupby('user_id').agg({'event_name': 'count', 'group': 'first'})\n",
    "\n",
    "plt.figure(figsize=(10, 8))\n",
    "sns.histplot(data=user_events_count,\n",
    "            x='event_name', \n",
    "            hue='group',\n",
    "            bins=25)\n",
    "plt.title('Distribution of the number of events per user by groups')\n",
    "plt.xlabel('Event count')\n",
    "plt.ylabel('User count')\n",
    "plt.legend(['B', 'A'],\n",
    "           title='Group')\n",
    "plt.show()\n",
    "\n",
    "print('Users that performed actions:')\n",
    "print('The average number of events per user in Group A:', round(user_events_count.loc[user_events_count['group'] == 'A', 'event_name'].mean(), 2))\n",
    "print('The average number of events per user in Group B:', round(user_events_count.loc[user_events_count['group'] == 'B', 'event_name'].mean(), 2))\n",
    "print()\n",
    "print('All users:')\n",
    "print('The average number of events per user in Group A:', round(user_events_count.loc[user_events_count['group'] == 'A', 'event_name'].sum() / len(test_users[test_users['group'] == 'A']), 2))\n",
    "print('The average number of events per user in Group B:', round(user_events_count.loc[user_events_count['group'] == 'B', 'event_name'].sum() / len(test_users[test_users['group'] == 'B']), 2))"
   ]
  },
  {
   "cell_type": "markdown",
   "metadata": {},
   "source": [
    "The number of events per user is distributed around the median with a slight right tail. Additionally, it can be noticed that a small number of users perform 1, 5, 7, and 11 events.\n",
    "\n",
    "The average number of events for Group B (5.42) is lower than that of Group A (6.95), indicating a smaller number of events in Group B.\n",
    "\n",
    "If we consider users without events, the difference between the groups significantly increases, indicating even fewer events in Group B (1.76 compared to 4.97). Group B has a significantly higher number of users without actions."
   ]
  },
  {
   "cell_type": "markdown",
   "metadata": {},
   "source": [
    "### Events by Date"
   ]
  },
  {
   "cell_type": "code",
   "execution_count": 30,
   "metadata": {},
   "outputs": [
    {
     "data": {
      "image/png": "[encoded data removed]",
      "text/plain": [
       "<Figure size 1000x800 with 1 Axes>"
      ]
     },
     "metadata": {},
     "output_type": "display_data"
    }
   ],
   "source": [
    "test_events['event_date'] = test_events['event_dt'].dt.date\n",
    "\n",
    "date_events_a = test_events[test_events['group'] == 'A'].groupby('event_date', as_index=False).agg({'user_id': 'count'}).rename(columns={'user_id': 'count'})\n",
    "date_events_b = test_events[test_events['group'] == 'B'].groupby('event_date', as_index=False).agg({'user_id': 'count'}).rename(columns={'user_id': 'count'})\n",
    "\n",
    "plt.figure(figsize=(10, 8))\n",
    "sns.barplot(data=date_events_a,\n",
    "             x='event_date',\n",
    "             y='count',\n",
    "             label='A',\n",
    "             color='blue',\n",
    "             alpha=0.5)\n",
    "sns.barplot(data=date_events_b,\n",
    "             x='event_date',\n",
    "             y='count',\n",
    "             label='B',\n",
    "             color='orange',\n",
    "             alpha=0.5)\n",
    "plt.title('Distribution of events in groups by days')\n",
    "plt.xlabel('Date')\n",
    "plt.xticks(rotation=30)\n",
    "plt.ylabel('Event count')\n",
    "plt.legend(title='Test group')\n",
    "plt.show()"
   ]
  },
  {
   "cell_type": "markdown",
   "metadata": {},
   "source": [
    "In Group A, the number of events was low during the first 7 days. However, starting from December 14th, there was a rapid growth, and on the 20th, the number of events reached over 1750. After that, the number of user actions declined.\n",
    "\n",
    "In Group B, the peak also occurred on the 20th, but there was no rapid growth. Events are distributed more evenly by days, with a decline on December 10th-13th and after the 20th.\n",
    "\n",
    "The only day when the number of events in Group B slightly exceeded Group A was the first day of the test."
   ]
  },
  {
   "cell_type": "code",
   "execution_count": 31,
   "metadata": {},
   "outputs": [
    {
     "data": {
      "text/plain": [
       "['Christmas&New Year Promo', 'CIS New Year Gift Lottery']"
      ]
     },
     "execution_count": 31,
     "metadata": {},
     "output_type": "execute_result"
    }
   ],
   "source": [
    "intersect_events = []\n",
    "\n",
    "for elem in marketing_events['name']:\n",
    "    start = marketing_events.loc[marketing_events['name'] == elem, 'start_dt'].iloc[0]\n",
    "    finish = marketing_events.loc[marketing_events['name'] == elem, 'finish_dt'].iloc[0]\n",
    "    if test_beginning <= start <= test_end or test_beginning <= finish <= test_end:\n",
    "        intersect_events.append(elem)\n",
    "        \n",
    "intersect_events"
   ]
  },
  {
   "cell_type": "markdown",
   "metadata": {},
   "source": [
    "Events such as the Christmas & New Year Promo and CIS New Year Gift Lottery overlapped with the test. Let's check their dates and assess their impact on the number of events."
   ]
  },
  {
   "cell_type": "code",
   "execution_count": 32,
   "metadata": {},
   "outputs": [
    {
     "name": "stdout",
     "output_type": "stream",
     "text": [
      "Event: Christmas&New Year Promo\n",
      "Regions of the event: EU, N.America\n",
      "Start date: 2020-12-25\n",
      "End date: 2021-01-03\n",
      "\n",
      "Event: CIS New Year Gift Lottery\n",
      "Regions of the event: CIS\n",
      "Start date: 2020-12-30\n",
      "End date: 2021-01-07\n",
      "\n"
     ]
    }
   ],
   "source": [
    "for elem in intersect_events:\n",
    "    print(f'Event: {elem}\\nRegions of the event: {marketing_events.loc[marketing_events[\"name\"] == elem, \"regions\"].iloc[0]}\\n'\n",
    "          f'Start date: {marketing_events.loc[marketing_events[\"name\"] == elem, \"start_dt\"].iloc[0].date()}\\n'\n",
    "          f'End date: {marketing_events.loc[marketing_events[\"name\"] == elem, \"finish_dt\"].iloc[0].date()}\\n')"
   ]
  },
  {
   "cell_type": "markdown",
   "metadata": {},
   "source": [
    "Based on the above graph, it appears that the Christmas & New Year Promo event did not have an impact on user actions.\n",
    "\n",
    "The second event from the list (CIS New Year Gift Lottery) was held in the CIS region, not the EU, so it is not relevant to the test."
   ]
  },
  {
   "cell_type": "markdown",
   "metadata": {},
   "source": [
    "### Action funnels"
   ]
  },
  {
   "cell_type": "code",
   "execution_count": 33,
   "metadata": {},
   "outputs": [
    {
     "data": {
      "image/png": "[encoded data removed]"
     },
     "metadata": {},
     "output_type": "display_data"
    }
   ],
   "source": [
    "funnel_a = (test_events[test_events['group'] == 'A']\n",
    "            .groupby('event_name', as_index=False).agg({'user_id': 'nunique'})\n",
    "            .rename(columns={'user_id': 'count'}))\n",
    "funnel_b = (test_events[test_events['group'] == 'B']\n",
    "            .groupby('event_name', as_index=False).agg({'user_id': 'nunique'})\n",
    "            .rename(columns={'user_id': 'count'}))\n",
    "\n",
    "sort_order = ['login', 'product_page', 'product_cart', 'purchase']\n",
    "funnel_a['event_name'] = pd.Categorical(funnel_a['event_name'], categories=sort_order, ordered=True)\n",
    "funnel_b['event_name'] = pd.Categorical(funnel_b['event_name'], categories=sort_order, ordered=True)\n",
    "\n",
    "funnel_a = funnel_a.sort_values(by='event_name').reset_index(drop=True)\n",
    "funnel_b = funnel_b.sort_values(by='event_name').reset_index(drop=True)\n",
    "\n",
    "fig2 = px.funnel(funnel_a, x='count', y='event_name', title='Action funnel for group A')\n",
    "fig2.update_traces(textposition='inside', textinfo='value+percent previous')\n",
    "fig2.update_layout(yaxis_title='Action name')\n",
    "fig2.show()"
   ]
  },
  {
   "cell_type": "markdown",
   "metadata": {},
   "source": [
    "It can be noticed that the conversion rate at the last step is over 100%. This means that the cart action is not mandatory, and there is a quick purchase function.\n",
    "\n",
    "Let's examine the funnel for Group B."
   ]
  },
  {
   "cell_type": "code",
   "execution_count": 34,
   "metadata": {},
   "outputs": [
    {
     "data": {
      "image/png": "[encoded data removed]"
     },
     "metadata": {},
     "output_type": "display_data"
    }
   ],
   "source": [
    "fig3 = px.funnel(funnel_b, x='count', y='event_name', title='Action funnel for group B')\n",
    "fig3.update_traces(textposition='inside', textinfo='value+percent previous')\n",
    "fig3.update_layout(yaxis_title='Action name')\n",
    "fig3.show()"
   ]
  },
  {
   "cell_type": "markdown",
   "metadata": {},
   "source": [
    "The conversion at each step, except for the product cart, decreased compared to Group A:\n",
    "\n",
    "- The conversion to viewing product cards decreased by 9%.\n",
    "- For the cart, the conversion increased by 3%.\n",
    "- The conversion to the purchase step dropped by 6%."
   ]
  },
  {
   "cell_type": "markdown",
   "metadata": {},
   "source": [
    "### Conclusion of the exploratory analysis"
   ]
  },
  {
   "cell_type": "markdown",
   "metadata": {},
   "source": [
    "After the analysis, it can be concluded that user activity in Group B significantly decreased compared to Group A. There is a significant difference (more than 3-fold) in the average number of events per user between the groups. Additionally, the event dynamics in Group B are more moderate than in Group A.\n",
    "\n",
    "Regarding conversion, instead of the expected increase of 5%, it decreased at all steps in Group B, except for the product cart, which is an optional step."
   ]
  },
  {
   "cell_type": "markdown",
   "metadata": {},
   "source": [
    "## Evaluation of A/B Test Results"
   ]
  },
  {
   "cell_type": "code",
   "execution_count": 35,
   "metadata": {},
   "outputs": [],
   "source": [
    "alpha = 0.05 / 3\n",
    "\n",
    "total_a = len(test_events[test_events['group'] == 'A'].groupby('user_id'))\n",
    "total_b = len(test_events[test_events['group'] == 'B'].groupby('user_id'))"
   ]
  },
  {
   "cell_type": "code",
   "execution_count": 36,
   "metadata": {},
   "outputs": [],
   "source": [
    "def test_hypothesis(event):\n",
    "    success_a = len(test_events.query('event_name == @event & group == \"A\"').groupby('user_id'))\n",
    "    success_b = len(test_events.query('event_name == @event & group == \"B\"').groupby('user_id'))\n",
    "    p1 = success_a / total_a\n",
    "    p2 = success_b / total_b\n",
    "    p_combined = (success_a + success_b) / (total_a + total_b)\n",
    "    difference = p1 - p2\n",
    "    z_value = difference / mth.sqrt(p_combined * (1 - p_combined) * (1/total_a + 1/total_b))\n",
    "    distr = st.norm(0, 1)\n",
    "    p_value = (1 - distr.cdf(abs(z_value))) * 2\n",
    "    print('The level of statistical significance:', alpha)\n",
    "    print('p-value:', p_value)\n",
    "    if p_value < alpha:\n",
    "        print('We reject the null hypothesis: there is a significant difference between the proportions.')\n",
    "    else:\n",
    "        print(\n",
    "            'We failed to reject the null hypothesis; there is no evidence to consider the proportions different.'\n",
    "        )"
   ]
  },
  {
   "cell_type": "markdown",
   "metadata": {},
   "source": [
    "H0: There is no difference in the proportions of users who visited the product page between groups A and B.\n",
    "\n",
    "H1: There is a difference in the proportions of users who visited the product page between groups A and B."
   ]
  },
  {
   "cell_type": "code",
   "execution_count": 37,
   "metadata": {},
   "outputs": [
    {
     "name": "stdout",
     "output_type": "stream",
     "text": [
      "The level of statistical significance: 0.016666666666666666\n",
      "p-value: 3.8415005565450855e-06\n",
      "We reject the null hypothesis: there is a significant difference between the proportions.\n"
     ]
    }
   ],
   "source": [
    "test_hypothesis('product_page')"
   ]
  },
  {
   "cell_type": "markdown",
   "metadata": {},
   "source": [
    "The null hypothesis is rejected - there are different proportions of users who visited the product page in groups A and B."
   ]
  },
  {
   "cell_type": "markdown",
   "metadata": {},
   "source": [
    "H0: There is no difference in the proportions of users who proceeded to the cart between groups A and B.\n",
    "\n",
    "H1: There is a difference in the proportions of users who proceeded to the cart between groups A and B."
   ]
  },
  {
   "cell_type": "code",
   "execution_count": 38,
   "metadata": {},
   "outputs": [
    {
     "name": "stdout",
     "output_type": "stream",
     "text": [
      "The level of statistical significance: 0.016666666666666666\n",
      "p-value: 0.14412076974264498\n",
      "We failed to reject the null hypothesis; there is no evidence to consider the proportions different.\n"
     ]
    }
   ],
   "source": [
    "test_hypothesis('product_cart')"
   ]
  },
  {
   "cell_type": "markdown",
   "metadata": {},
   "source": [
    "The hypothesis could not be rejected - there is no difference between the groups in the proportions of users who proceeded to the cart."
   ]
  },
  {
   "cell_type": "markdown",
   "metadata": {},
   "source": [
    "H0: There is no difference in the proportions of users who made a purchase between groups A and B.\n",
    "\n",
    "H1: There is a difference in the proportions of users who made a purchase between groups A and B."
   ]
  },
  {
   "cell_type": "code",
   "execution_count": 39,
   "metadata": {},
   "outputs": [
    {
     "name": "stdout",
     "output_type": "stream",
     "text": [
      "The level of statistical significance: 0.016666666666666666\n",
      "p-value: 0.01764968717521609\n",
      "We failed to reject the null hypothesis; there is no evidence to consider the proportions different.\n"
     ]
    }
   ],
   "source": [
    "test_hypothesis('purchase')"
   ]
  },
  {
   "cell_type": "markdown",
   "metadata": {},
   "source": [
    "The hypothesis is not rejected - there is no difference between the groups in the proportions of purchasers."
   ]
  },
  {
   "cell_type": "markdown",
   "metadata": {},
   "source": [
    "The tests showed the following:\n",
    "- There are different proportions of users transitioning to product pages between groups. However, considering the exploratory analysis, it can be concluded that in Group B, a smaller proportion of users perform this action, which does not align with the experiment's goals.\n",
    "- There is no difference between the groups in the proportions of users who proceeded to the cart. The expected 5% increase in conversion was not achieved.\n",
    "- There was no difference in the proportions of purchasers between the groups. Similarly, the target 5% increase was not achieved.\n",
    "\n",
    "Based on the results of the A/B testing, it can be concluded that the changes do not lead to an increase in conversion. The experiment has failed as none of the metrics showed a 5% increase."
   ]
  },
  {
   "cell_type": "markdown",
   "metadata": {},
   "source": [
    "## Overall Conclusion and Recommendations"
   ]
  },
  {
   "cell_type": "markdown",
   "metadata": {},
   "source": [
    "During the project, data loading, preprocessing, and analysis of user actions were conducted. Subsequently, the test was checked for compliance with the technical specification, and adjustments were made to the A/B test, followed by an analysis of the test results.\n",
    "\n",
    "During the test evaluation, it was revealed that it was conducted incorrectly - intersections with a competing test and events with a lifetime of more than 14 days were noticed. Subsequent data adjustments allowed preparing them for evaluating the test results.\n",
    "\n",
    "The exploratory data analysis indicated that:\n",
    "\n",
    "- The average number of events in group B (5.42) is lower than in group A (6.95), indicating fewer events in group B. If users without events are taken into account, the difference between the groups increases significantly, indicating an even smaller number of events in group B (1.76 versus 4.97). There are significantly more inactive users in group B.\n",
    "\n",
    "- In group A, the first 7 days had a low number of events, but starting from December 14, there was a sharp increase, and on the 20th, the number of events reached over 1750. After that, the number of user actions declined. In group B, the peak also occurred on the 20th, but there was no sharp increase. Events are distributed more evenly by days, with a decline from December 10-13 and after the 20th. User activity in group B is significantly lower.\n",
    "\n",
    "- Marketing events did not affect user activity.\n",
    "\n",
    "- Conversion at each step, except for the product cart, decreased compared to group A:\n",
    "    - Conversion to viewing product cards decreased by 9%.\n",
    "    - Conversion at the cart increased by 3%.\n",
    "    - Conversion to the purchase step decreased by 6%.\n",
    "\n",
    "The test showed that the changes did not increase user conversion. The number of inactive clients increased, the average number of events decreased, and conversion rates per step decreased. Users in group B were less active.\n",
    "\n",
    "After statistical hypothesis testing, it was found that there is a difference in user conversion between the groups only at the step of viewing the product. However, this action was still more common in group A, indicating a failure to achieve a five percent increase in conversion for each action.\n",
    "\n",
    "In the future, it is necessary to review the changes to the recommendation system and identify the reasons for the failure, followed by conducting a new test. In the course of the new testing, it is important to ensure that the test groups do not intersect, and the results are not influenced by the conduct of competing tests. All this will increase business efficiency and identify vulnerabilities that affected the results of this testing."
   ]
  }
 ],
 "metadata": {
  "ExecuteTimeLog": [
   {
    "duration": 1416,
    "start_time": "2023-12-20T23:58:08.319Z"
   },
   {
    "duration": 935,
    "start_time": "2023-12-20T23:58:09.737Z"
   },
   {
    "duration": 20,
    "start_time": "2023-12-20T23:58:10.674Z"
   },
   {
    "duration": 25,
    "start_time": "2023-12-20T23:58:10.695Z"
   },
   {
    "duration": 73,
    "start_time": "2023-12-20T23:58:10.722Z"
   },
   {
    "duration": 25,
    "start_time": "2023-12-20T23:58:10.796Z"
   },
   {
    "duration": 63,
    "start_time": "2023-12-20T23:58:10.823Z"
   },
   {
    "duration": 52,
    "start_time": "2023-12-20T23:58:10.887Z"
   },
   {
    "duration": 19,
    "start_time": "2023-12-20T23:58:10.940Z"
   },
   {
    "duration": 120,
    "start_time": "2023-12-20T23:58:10.961Z"
   },
   {
    "duration": 209,
    "start_time": "2023-12-20T23:58:11.082Z"
   },
   {
    "duration": 14,
    "start_time": "2023-12-20T23:58:11.292Z"
   },
   {
    "duration": 53,
    "start_time": "2023-12-20T23:58:11.315Z"
   },
   {
    "duration": 15,
    "start_time": "2023-12-20T23:58:11.370Z"
   },
   {
    "duration": 332,
    "start_time": "2023-12-20T23:58:11.386Z"
   },
   {
    "duration": 570,
    "start_time": "2023-12-20T23:58:11.720Z"
   },
   {
    "duration": 26,
    "start_time": "2023-12-20T23:58:12.292Z"
   },
   {
    "duration": 11,
    "start_time": "2023-12-20T23:58:12.320Z"
   },
   {
    "duration": 11,
    "start_time": "2023-12-20T23:58:12.333Z"
   },
   {
    "duration": 88,
    "start_time": "2023-12-20T23:58:12.346Z"
   },
   {
    "duration": 14,
    "start_time": "2023-12-20T23:58:12.436Z"
   },
   {
    "duration": 97,
    "start_time": "2023-12-20T23:58:12.452Z"
   },
   {
    "duration": 39,
    "start_time": "2023-12-20T23:58:12.550Z"
   },
   {
    "duration": 14,
    "start_time": "2023-12-20T23:58:12.590Z"
   },
   {
    "duration": 35,
    "start_time": "2023-12-20T23:58:12.615Z"
   },
   {
    "duration": 406,
    "start_time": "2023-12-20T23:58:12.652Z"
   },
   {
    "duration": 300,
    "start_time": "2023-12-20T23:58:13.059Z"
   },
   {
    "duration": 435,
    "start_time": "2023-12-20T23:58:13.362Z"
   },
   {
    "duration": 20,
    "start_time": "2023-12-20T23:58:13.799Z"
   },
   {
    "duration": 9,
    "start_time": "2023-12-20T23:58:13.821Z"
   },
   {
    "duration": 73,
    "start_time": "2023-12-20T23:58:13.832Z"
   },
   {
    "duration": 43,
    "start_time": "2023-12-20T23:58:13.914Z"
   },
   {
    "duration": 23,
    "start_time": "2023-12-20T23:58:13.959Z"
   },
   {
    "duration": 11,
    "start_time": "2023-12-21T09:35:16.869Z"
   },
   {
    "duration": 585,
    "start_time": "2023-12-21T09:35:16.881Z"
   },
   {
    "duration": 15,
    "start_time": "2023-12-21T09:35:17.468Z"
   },
   {
    "duration": 25,
    "start_time": "2023-12-21T09:35:17.485Z"
   },
   {
    "duration": 77,
    "start_time": "2023-12-21T09:35:17.511Z"
   },
   {
    "duration": 16,
    "start_time": "2023-12-21T09:35:17.589Z"
   },
   {
    "duration": 78,
    "start_time": "2023-12-21T09:35:17.606Z"
   },
   {
    "duration": 34,
    "start_time": "2023-12-21T09:35:17.688Z"
   },
   {
    "duration": 38,
    "start_time": "2023-12-21T09:35:17.724Z"
   },
   {
    "duration": 125,
    "start_time": "2023-12-21T09:35:17.764Z"
   },
   {
    "duration": 205,
    "start_time": "2023-12-21T09:35:17.891Z"
   },
   {
    "duration": 14,
    "start_time": "2023-12-21T09:35:18.098Z"
   },
   {
    "duration": 45,
    "start_time": "2023-12-21T09:35:18.113Z"
   },
   {
    "duration": 15,
    "start_time": "2023-12-21T09:35:18.160Z"
   },
   {
    "duration": 255,
    "start_time": "2023-12-21T09:35:18.176Z"
   },
   {
    "duration": 41,
    "start_time": "2023-12-21T09:35:18.433Z"
   },
   {
    "duration": 25,
    "start_time": "2023-12-21T09:35:18.475Z"
   },
   {
    "duration": 12,
    "start_time": "2023-12-21T09:35:18.502Z"
   },
   {
    "duration": 30,
    "start_time": "2023-12-21T09:35:18.515Z"
   },
   {
    "duration": 42,
    "start_time": "2023-12-21T09:35:18.547Z"
   },
   {
    "duration": 40,
    "start_time": "2023-12-21T09:35:18.591Z"
   },
   {
    "duration": 55,
    "start_time": "2023-12-21T09:35:18.633Z"
   },
   {
    "duration": 55,
    "start_time": "2023-12-21T09:35:18.689Z"
   },
   {
    "duration": 19,
    "start_time": "2023-12-21T09:35:18.745Z"
   },
   {
    "duration": 47,
    "start_time": "2023-12-21T09:35:18.765Z"
   },
   {
    "duration": 482,
    "start_time": "2023-12-21T09:35:18.814Z"
   },
   {
    "duration": 293,
    "start_time": "2023-12-21T09:35:19.297Z"
   },
   {
    "duration": 430,
    "start_time": "2023-12-21T09:35:19.591Z"
   },
   {
    "duration": 20,
    "start_time": "2023-12-21T09:35:20.023Z"
   },
   {
    "duration": 49,
    "start_time": "2023-12-21T09:35:20.044Z"
   },
   {
    "duration": 74,
    "start_time": "2023-12-21T09:35:20.095Z"
   },
   {
    "duration": 44,
    "start_time": "2023-12-21T09:35:20.171Z"
   },
   {
    "duration": 45,
    "start_time": "2023-12-21T09:35:20.217Z"
   },
   {
    "duration": 13,
    "start_time": "2023-12-21T09:44:05.207Z"
   },
   {
    "duration": 1288,
    "start_time": "2023-12-21T09:45:47.551Z"
   },
   {
    "duration": 637,
    "start_time": "2023-12-21T09:45:48.842Z"
   },
   {
    "duration": 23,
    "start_time": "2023-12-21T09:45:49.481Z"
   },
   {
    "duration": 43,
    "start_time": "2023-12-21T09:45:49.506Z"
   },
   {
    "duration": 115,
    "start_time": "2023-12-21T09:45:49.551Z"
   },
   {
    "duration": 20,
    "start_time": "2023-12-21T09:45:49.667Z"
   },
   {
    "duration": 96,
    "start_time": "2023-12-21T09:45:49.688Z"
   },
   {
    "duration": 38,
    "start_time": "2023-12-21T09:45:49.786Z"
   },
   {
    "duration": 31,
    "start_time": "2023-12-21T09:45:49.826Z"
   },
   {
    "duration": 132,
    "start_time": "2023-12-21T09:45:49.860Z"
   },
   {
    "duration": 244,
    "start_time": "2023-12-21T09:45:49.994Z"
   },
   {
    "duration": 18,
    "start_time": "2023-12-21T09:45:50.240Z"
   },
   {
    "duration": 46,
    "start_time": "2023-12-21T09:45:50.261Z"
   },
   {
    "duration": 35,
    "start_time": "2023-12-21T09:45:50.309Z"
   },
   {
    "duration": 365,
    "start_time": "2023-12-21T09:45:50.346Z"
   },
   {
    "duration": 580,
    "start_time": "2023-12-21T09:45:50.713Z"
   },
   {
    "duration": 25,
    "start_time": "2023-12-21T09:45:51.294Z"
   },
   {
    "duration": 30,
    "start_time": "2023-12-21T09:45:51.321Z"
   },
   {
    "duration": 19,
    "start_time": "2023-12-21T09:45:51.352Z"
   },
   {
    "duration": 85,
    "start_time": "2023-12-21T09:45:51.373Z"
   },
   {
    "duration": 14,
    "start_time": "2023-12-21T09:45:51.459Z"
   },
   {
    "duration": 72,
    "start_time": "2023-12-21T09:45:51.474Z"
   },
   {
    "duration": 36,
    "start_time": "2023-12-21T09:45:51.547Z"
   },
   {
    "duration": 6,
    "start_time": "2023-12-21T09:45:51.584Z"
   },
   {
    "duration": 21,
    "start_time": "2023-12-21T09:45:51.592Z"
   },
   {
    "duration": 418,
    "start_time": "2023-12-21T09:45:51.615Z"
   },
   {
    "duration": 285,
    "start_time": "2023-12-21T09:45:52.035Z"
   },
   {
    "duration": 436,
    "start_time": "2023-12-21T09:45:52.324Z"
   },
   {
    "duration": 16,
    "start_time": "2023-12-21T09:45:52.762Z"
   },
   {
    "duration": 74,
    "start_time": "2023-12-21T09:45:52.779Z"
   },
   {
    "duration": 95,
    "start_time": "2023-12-21T09:45:52.855Z"
   },
   {
    "duration": 45,
    "start_time": "2023-12-21T09:45:52.952Z"
   },
   {
    "duration": 35,
    "start_time": "2023-12-21T09:45:52.999Z"
   },
   {
    "duration": 73,
    "start_time": "2023-12-21T10:01:44.908Z"
   },
   {
    "duration": 3,
    "start_time": "2023-12-21T10:16:19.361Z"
   },
   {
    "duration": 1279,
    "start_time": "2023-12-21T15:02:24.944Z"
   },
   {
    "duration": 1892,
    "start_time": "2023-12-21T15:02:26.225Z"
   },
   {
    "duration": 18,
    "start_time": "2023-12-21T15:02:28.118Z"
   },
   {
    "duration": 29,
    "start_time": "2023-12-21T15:02:28.139Z"
   },
   {
    "duration": 70,
    "start_time": "2023-12-21T15:02:28.170Z"
   },
   {
    "duration": 15,
    "start_time": "2023-12-21T15:02:28.241Z"
   },
   {
    "duration": 74,
    "start_time": "2023-12-21T15:02:28.257Z"
   },
   {
    "duration": 33,
    "start_time": "2023-12-21T15:02:28.332Z"
   },
   {
    "duration": 19,
    "start_time": "2023-12-21T15:02:28.366Z"
   },
   {
    "duration": 103,
    "start_time": "2023-12-21T15:02:28.398Z"
   },
   {
    "duration": 195,
    "start_time": "2023-12-21T15:02:28.502Z"
   },
   {
    "duration": 13,
    "start_time": "2023-12-21T15:02:28.699Z"
   },
   {
    "duration": 33,
    "start_time": "2023-12-21T15:02:28.713Z"
   },
   {
    "duration": 15,
    "start_time": "2023-12-21T15:02:28.747Z"
   },
   {
    "duration": 502,
    "start_time": "2023-12-21T15:02:28.763Z"
   },
   {
    "duration": 606,
    "start_time": "2023-12-21T15:02:29.267Z"
   },
   {
    "duration": 25,
    "start_time": "2023-12-21T15:02:29.875Z"
   },
   {
    "duration": 14,
    "start_time": "2023-12-21T15:02:29.902Z"
   },
   {
    "duration": 11,
    "start_time": "2023-12-21T15:02:29.918Z"
   },
   {
    "duration": 92,
    "start_time": "2023-12-21T15:02:29.931Z"
   },
   {
    "duration": 34,
    "start_time": "2023-12-21T15:02:30.025Z"
   },
   {
    "duration": 82,
    "start_time": "2023-12-21T15:02:30.060Z"
   },
   {
    "duration": 54,
    "start_time": "2023-12-21T15:02:30.143Z"
   },
   {
    "duration": 45,
    "start_time": "2023-12-21T15:02:30.199Z"
   },
   {
    "duration": 33,
    "start_time": "2023-12-21T15:02:30.246Z"
   },
   {
    "duration": 372,
    "start_time": "2023-12-21T15:02:30.281Z"
   },
   {
    "duration": 267,
    "start_time": "2023-12-21T15:02:30.655Z"
   },
   {
    "duration": 379,
    "start_time": "2023-12-21T15:02:30.924Z"
   },
   {
    "duration": 13,
    "start_time": "2023-12-21T15:02:31.304Z"
   },
   {
    "duration": 40,
    "start_time": "2023-12-21T15:02:31.318Z"
   },
   {
    "duration": 107,
    "start_time": "2023-12-21T15:02:31.359Z"
   },
   {
    "duration": 61,
    "start_time": "2023-12-21T15:02:31.468Z"
   },
   {
    "duration": 30,
    "start_time": "2023-12-21T15:02:31.531Z"
   },
   {
    "duration": 20,
    "start_time": "2023-12-21T15:02:31.562Z"
   },
   {
    "duration": 60,
    "start_time": "2023-12-21T15:02:31.583Z"
   },
   {
    "duration": 16,
    "start_time": "2023-12-21T15:02:31.644Z"
   },
   {
    "duration": 22,
    "start_time": "2023-12-21T15:02:31.664Z"
   }
  ],
  "kernelspec": {
   "display_name": "Python 3 (ipykernel)",
   "language": "python",
   "name": "python3"
  },
  "language_info": {
   "codemirror_mode": {
    "name": "ipython",
    "version": 3
   },
   "file_extension": ".py",
   "mimetype": "text/x-python",
   "name": "python",
   "nbconvert_exporter": "python",
   "pygments_lexer": "ipython3",
   "version": "3.11.0"
  },
  "toc": {
   "base_numbering": 1,
   "nav_menu": {},
   "number_sections": true,
   "sideBar": true,
   "skip_h1_title": true,
   "title_cell": "Table of Contents",
   "title_sidebar": "Contents",
   "toc_cell": false,
   "toc_position": {},
   "toc_section_display": true,
   "toc_window_display": false
  }
 },
 "nbformat": 4,
 "nbformat_minor": 2
}
